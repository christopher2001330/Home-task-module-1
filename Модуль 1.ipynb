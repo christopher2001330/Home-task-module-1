{
 "cells": [
  {
   "cell_type": "code",
   "execution_count": 53,
   "metadata": {},
   "outputs": [
    {
     "name": "stdout",
     "output_type": "stream",
     "text": [
      "В этом году Вам 23 года\n",
      "ПРИВЕТ, Я СТРОКА В НИЖНЕМ РЕГИСТРЕ\n",
      "привет, я строка в нижнем регистре\n",
      "Пока, я строка в нижнем регистре\n",
      "Привет,#я#строка#в#нижнем#регистре\n"
     ]
    }
   ],
   "source": [
    "# #Cтроки\n",
    "# name = \"Denis\"\n",
    "# print('Hello '+ name)\n",
    "# print('Hello ''Denis')\n",
    "# print (\"Hello \"*5)\n",
    "# print (name[0]) #выведение порядкого номера символа\n",
    "# print (name[-1]) # можно и в обратку\n",
    "# print(name[0:3]) #выведение отрезка данных\n",
    "# print(name[0:3:2]) # пропустить второе число\n",
    "# print(name[:3],name[2:] ) # более лаконичные варианты записи\n",
    "# print (name[::-1]) #всё подряд наоборот\n",
    "\n",
    "# #Переменные\n",
    "# #принято назвать осмысленные названия\n",
    "# #camel case ans snake case\n",
    "# date_of_birtn = \"March 2022\" #snake case\n",
    "# dateOfBirth = \"March 2002\" #camelcase\n",
    "\n",
    "# #Динамическая типизация\n",
    "\n",
    "# name = \"Urban\"\n",
    "# print (name, type(name)) #переопределение данных\n",
    "# name = 5\n",
    "# print (name, type(name))\n",
    "# name = 5.5\n",
    "# print (name, type(name))\n",
    "# name = [1,2]\n",
    "# print (name, type(name))\n",
    "\n",
    "# # Организация программ\n",
    "\n",
    "# name = input (\"Введите Ваше имя:\" ) #обязательно пробел в конце\n",
    "# print (type (name)) #при вводе постоянно Str, если нам нужно число, нужна другая команда\n",
    "# current_year = 2024\n",
    "# date_of_birtn = int(input (\"В каком году вы родились? \"))\n",
    "# age = current_year-date_of_birtn\n",
    "# print (\"Здравствуйте, \", name)\n",
    "print (\"В этом году Вам\", age, \"года\")\n",
    "print (\"Привет, я строка в нижнем регистре\".upper()) # закомментировать код - ctrl+/\n",
    "print (\"Привет, я строка в нижнем регистре\".lower()) # переброс строк между регистрами\n",
    "print (\"Привет, я строка в нижнем регистре\".replace(\"Привет\",\"Пока\" )) #замена элементов\n",
    "print (\"Привет, я строка в нижнем регистре\".replace(\" \",\"#\" )) #Удаление пробелов\n",
    "\n",
    "#https://docs.python.org/3/library/stdtypes.html#string-methods Ссылка на остальные методы"
   ]
  },
  {
   "cell_type": "code",
   "execution_count": null,
   "metadata": {},
   "outputs": [],
   "source": [
    "#Task1\n",
    "a = 'Капибару'\n",
    "print (a[0])\n",
    "print (a[-1])\n",
    "print (a[4:])\n",
    "print(a[::-1])\n",
    "print (a[1:8:2])\n",
    "\n"
   ]
  },
  {
   "cell_type": "code",
   "execution_count": 30,
   "metadata": {},
   "outputs": [
    {
     "name": "stdout",
     "output_type": "stream",
     "text": [
      "Курс  Python всего задач:  12 , затрачено часов:  1.5 Среднее время выполнения  0.125  часа\n"
     ]
    }
   ],
   "source": [
    "#Task2 - Тема ПЕРЕМЕННЫЕ\n",
    "done_tasks_amount = 12\n",
    "spent_hours_amount = 1.5\n",
    "courses_name = 'Python'\n",
    "Time_for_one_task = (spent_hours_amount)/(done_tasks_amount)\n",
    "print('Курс ',courses_name,\"всего задач: \",done_tasks_amount , \", затрачено часов: \",spent_hours_amount, \"Среднее время выполнения \",Time_for_one_task, \" часа\"  )"
   ]
  },
  {
   "cell_type": "code",
   "execution_count": 38,
   "metadata": {},
   "outputs": [
    {
     "name": "stdout",
     "output_type": "stream",
     "text": [
      "kris\n",
      "23\n",
      "25\n",
      "True\n"
     ]
    }
   ],
   "source": [
    "#Task3 - Тема Динамическая типизация\n",
    "name = \"kris\"\n",
    "print(name)\n",
    "age = 23\n",
    "print(age)\n",
    "age = age+2\n",
    "print(age)\n",
    "is_student = True\n",
    "print(is_student)"
   ]
  },
  {
   "cell_type": "code",
   "execution_count": 59,
   "metadata": {},
   "outputs": [
    {
     "name": "stdout",
     "output_type": "stream",
     "text": [
      "12\n",
      "I LOVE URBAN\n",
      "i love urban\n",
      "i#love#urban\n",
      "n\n",
      "i\n"
     ]
    }
   ],
   "source": [
    "#Task4 - Организация программ\n",
    "my_strig = input (\"Введите, пожалуйста, текст\")\n",
    "print (len(my_strig))\n",
    "print (my_strig.upper())\n",
    "print (my_strig.lower())\n",
    "print (my_strig.replace(\" \", \"#\"))\n",
    "print (my_strig[-1])\n",
    "print (my_strig[0])"
   ]
  }
 ],
 "metadata": {
  "kernelspec": {
   "display_name": "base",
   "language": "python",
   "name": "python3"
  },
  "language_info": {
   "codemirror_mode": {
    "name": "ipython",
    "version": 3
   },
   "file_extension": ".py",
   "mimetype": "text/x-python",
   "name": "python",
   "nbconvert_exporter": "python",
   "pygments_lexer": "ipython3",
   "version": "3.9.13"
  }
 },
 "nbformat": 4,
 "nbformat_minor": 2
}
