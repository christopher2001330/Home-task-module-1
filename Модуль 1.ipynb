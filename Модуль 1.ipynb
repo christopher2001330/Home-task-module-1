{
 "cells": [
  {
   "cell_type": "code",
   "execution_count": null,
   "metadata": {},
   "outputs": [],
   "source": [
    "name = \"Denis\"\n",
    "print('Hello '+ name)\n",
    "print('Hello ''Denis')\n",
    "print (\"Hello \"*5)\n",
    "print (name[0]) #выведение порядкого номера символа\n",
    "print (name[-1]) # можно и в обратку\n",
    "print(name[0:3]) #выведение отрезка данных\n",
    "print(name[0:3:2]) # пропустить второе число\n",
    "print(name[:3],name[2:] ) # более лаконичные варианты записи\n",
    "print (name[::-1]) #всё подряд наоборот\n"
   ]
  },
  {
   "cell_type": "code",
   "execution_count": 26,
   "metadata": {},
   "outputs": [
    {
     "name": "stdout",
     "output_type": "stream",
     "text": [
      "К\n",
      "у\n",
      "бару\n",
      "урабипаК\n",
      "аиау\n"
     ]
    }
   ],
   "source": [
    "#Task1\n",
    "a = 'Капибару'\n",
    "print (a[0])\n",
    "print (a[-1])\n",
    "print (a[4:])\n",
    "print(a[::-1])\n",
    "print (a[1:8:2])\n",
    "\n"
   ]
  }
 ],
 "metadata": {
  "kernelspec": {
   "display_name": "base",
   "language": "python",
   "name": "python3"
  },
  "language_info": {
   "codemirror_mode": {
    "name": "ipython",
    "version": 3
   },
   "file_extension": ".py",
   "mimetype": "text/x-python",
   "name": "python",
   "nbconvert_exporter": "python",
   "pygments_lexer": "ipython3",
   "version": "3.9.13"
  }
 },
 "nbformat": 4,
 "nbformat_minor": 2
}
